{
 "cells": [
  {
   "cell_type": "markdown",
   "metadata": {},
   "source": [
    "# Autoencoder"
   ]
  },
  {
   "cell_type": "code",
   "execution_count": 1,
   "metadata": {
    "ExecuteTime": {
     "end_time": "2019-07-12T23:28:13.116056Z",
     "start_time": "2019-07-12T23:28:07.320935Z"
    }
   },
   "outputs": [],
   "source": [
    "import numpy as np\n",
    "import pandas as pd\n",
    "import matplotlib.pyplot as plt\n",
    "import tensorflow as tf\n",
    "\n",
    "# Data\n",
    "from tensorflow.examples.tutorials.mnist import input_data\n",
    "from tensorflow.contrib.layers import fully_connected"
   ]
  },
  {
   "cell_type": "code",
   "execution_count": 2,
   "metadata": {
    "ExecuteTime": {
     "end_time": "2019-07-12T23:28:13.848062Z",
     "start_time": "2019-07-12T23:28:13.119031Z"
    }
   },
   "outputs": [
    {
     "name": "stderr",
     "output_type": "stream",
     "text": [
      "WARNING: Logging before flag parsing goes to stderr.\n",
      "W0712 19:28:13.121007 11672 deprecation.py:323] From <ipython-input-2-707bddd68d59>:1: read_data_sets (from tensorflow.contrib.learn.python.learn.datasets.mnist) is deprecated and will be removed in a future version.\n",
      "Instructions for updating:\n",
      "Please use alternatives such as official/mnist/dataset.py from tensorflow/models.\n",
      "W0712 19:28:13.127989 11672 deprecation.py:323] From C:\\Users\\Siddhesh Acharekar\\Anaconda3\\lib\\site-packages\\tensorflow\\contrib\\learn\\python\\learn\\datasets\\mnist.py:260: maybe_download (from tensorflow.contrib.learn.python.learn.datasets.base) is deprecated and will be removed in a future version.\n",
      "Instructions for updating:\n",
      "Please write your own downloading logic.\n",
      "W0712 19:28:13.129983 11672 deprecation.py:323] From C:\\Users\\Siddhesh Acharekar\\Anaconda3\\lib\\site-packages\\tensorflow\\contrib\\learn\\python\\learn\\datasets\\mnist.py:262: extract_images (from tensorflow.contrib.learn.python.learn.datasets.mnist) is deprecated and will be removed in a future version.\n",
      "Instructions for updating:\n",
      "Please use tf.data to implement this functionality.\n"
     ]
    },
    {
     "name": "stdout",
     "output_type": "stream",
     "text": [
      "Extracting /MNIST_data/train-images-idx3-ubyte.gz\n"
     ]
    },
    {
     "name": "stderr",
     "output_type": "stream",
     "text": [
      "W0712 19:28:13.446137 11672 deprecation.py:323] From C:\\Users\\Siddhesh Acharekar\\Anaconda3\\lib\\site-packages\\tensorflow\\contrib\\learn\\python\\learn\\datasets\\mnist.py:267: extract_labels (from tensorflow.contrib.learn.python.learn.datasets.mnist) is deprecated and will be removed in a future version.\n",
      "Instructions for updating:\n",
      "Please use tf.data to implement this functionality.\n",
      "W0712 19:28:13.454116 11672 deprecation.py:323] From C:\\Users\\Siddhesh Acharekar\\Anaconda3\\lib\\site-packages\\tensorflow\\contrib\\learn\\python\\learn\\datasets\\mnist.py:110: dense_to_one_hot (from tensorflow.contrib.learn.python.learn.datasets.mnist) is deprecated and will be removed in a future version.\n",
      "Instructions for updating:\n",
      "Please use tf.one_hot on tensors.\n",
      "W0712 19:28:13.534921 11672 deprecation.py:323] From C:\\Users\\Siddhesh Acharekar\\Anaconda3\\lib\\site-packages\\tensorflow\\contrib\\learn\\python\\learn\\datasets\\mnist.py:290: DataSet.__init__ (from tensorflow.contrib.learn.python.learn.datasets.mnist) is deprecated and will be removed in a future version.\n",
      "Instructions for updating:\n",
      "Please use alternatives such as official/mnist/dataset.py from tensorflow/models.\n"
     ]
    },
    {
     "name": "stdout",
     "output_type": "stream",
     "text": [
      "Extracting /MNIST_data/train-labels-idx1-ubyte.gz\n",
      "Extracting /MNIST_data/t10k-images-idx3-ubyte.gz\n",
      "Extracting /MNIST_data/t10k-labels-idx1-ubyte.gz\n"
     ]
    }
   ],
   "source": [
    "mnist = input_data.read_data_sets(\"/MNIST_data/\", one_hot = True)"
   ]
  },
  {
   "cell_type": "code",
   "execution_count": 3,
   "metadata": {
    "ExecuteTime": {
     "end_time": "2019-07-12T23:28:13.857037Z",
     "start_time": "2019-07-12T23:28:13.851052Z"
    }
   },
   "outputs": [],
   "source": [
    "num_inputs = 784\n",
    "num_hid1 = 392\n",
    "num_hid2 = 196\n",
    "num_hid3 = num_hid1\n",
    "num_output = num_inputs\n",
    "\n",
    "lr = 0.01\n",
    "actf = tf.nn.relu"
   ]
  },
  {
   "cell_type": "code",
   "execution_count": 4,
   "metadata": {
    "ExecuteTime": {
     "end_time": "2019-07-12T23:28:13.932851Z",
     "start_time": "2019-07-12T23:28:13.859031Z"
    }
   },
   "outputs": [],
   "source": [
    "X = tf.placeholder(tf.float32, shape = [None, num_inputs])\n",
    "initializer = tf.variance_scaling_initializer()\n",
    "\n",
    "w1 = tf.Variable(initializer([num_inputs, num_hid1]), dtype = tf.float32)\n",
    "w2 = tf.Variable(initializer([num_hid1, num_hid2]), dtype = tf.float32)\n",
    "w3 = tf.Variable(initializer([num_hid2, num_hid3]), dtype = tf.float32)\n",
    "w4 = tf.Variable(initializer([num_hid3, num_output]), dtype = tf.float32)\n",
    "\n",
    "b1 = tf.Variable(tf.zeros(num_hid1))\n",
    "b2 = tf.Variable(tf.zeros(num_hid2))\n",
    "b3 = tf.Variable(tf.zeros(num_hid3))\n",
    "b4 = tf.Variable(tf.zeros(num_output))\n",
    "\n",
    "hid_layer1 = actf(tf.matmul(X, w1) + b1)\n",
    "hid_layer2 = actf(tf.matmul(hid_layer1, w2) + b2)\n",
    "hid_layer3 = actf(tf.matmul(hid_layer2, w3) + b3)\n",
    "output_layer = actf(tf.matmul(hid_layer3, w4) + b4)"
   ]
  },
  {
   "cell_type": "code",
   "execution_count": 5,
   "metadata": {
    "ExecuteTime": {
     "end_time": "2019-07-12T23:28:14.114363Z",
     "start_time": "2019-07-12T23:28:13.935828Z"
    }
   },
   "outputs": [],
   "source": [
    "loss = tf.reduce_mean(tf.square(output_layer - X))\n",
    "\n",
    "optimizer = tf.train.AdamOptimizer(lr)\n",
    "train = optimizer.minimize(loss)\n",
    "\n",
    "init = tf.global_variables_initializer()"
   ]
  },
  {
   "cell_type": "code",
   "execution_count": 6,
   "metadata": {
    "ExecuteTime": {
     "end_time": "2019-07-12T23:28:27.657824Z",
     "start_time": "2019-07-12T23:28:14.115365Z"
    }
   },
   "outputs": [
    {
     "name": "stdout",
     "output_type": "stream",
     "text": [
      "Epoch 0 loss 0.03317631036043167\n",
      "Epoch 1 loss 0.031064605340361595\n",
      "Epoch 2 loss 0.028108341619372368\n",
      "Epoch 3 loss 0.026227878406643867\n",
      "Epoch 4 loss 0.025265906006097794\n"
     ]
    }
   ],
   "source": [
    "num_epoch = 5\n",
    "batch_size = 150\n",
    "num_test_images = 10\n",
    "\n",
    "with tf.Session() as sess:\n",
    "    sess.run(init)\n",
    "    \n",
    "    for epoch in range(num_epoch):\n",
    "        \n",
    "        num_batches = mnist.train.num_examples//batch_size\n",
    "        for iter in range(num_batches):\n",
    "            X_batch, y_batch = mnist.train.next_batch(batch_size)\n",
    "            sess.run(train, feed_dict={X:X_batch})\n",
    "            \n",
    "        train_loss = loss.eval(feed_dict = {X:X_batch})\n",
    "        print(\"Epoch {} loss {}\".format(epoch, train_loss))\n",
    "        \n",
    "    results = output_layer.eval(feed_dict = {X:mnist.test.images[:num_test_images]})"
   ]
  },
  {
   "cell_type": "code",
   "execution_count": 7,
   "metadata": {
    "ExecuteTime": {
     "end_time": "2019-07-12T23:28:29.813210Z",
     "start_time": "2019-07-12T23:28:27.659821Z"
    }
   },
   "outputs": [
    {
     "data": {
      "image/png": "[encoded data removed]",
      "text/plain": [
       "<Figure size 1440x288 with 20 Axes>"
      ]
     },
     "metadata": {
      "needs_background": "light"
     },
     "output_type": "display_data"
    }
   ],
   "source": [
    "f, a = plt.subplots(2, 10, figsize = (20, 4))\n",
    "\n",
    "for i in range(num_test_images):\n",
    "    a[0][i].imshow(np.reshape(mnist.test.images[i], (28,28)))\n",
    "    a[1][i].imshow(np.reshape(results[i], (28, 28)))"
   ]
  }
 ],
 "metadata": {
  "kernelspec": {
   "display_name": "Python 3",
   "language": "python",
   "name": "python3"
  },
  "language_info": {
   "codemirror_mode": {
    "name": "ipython",
    "version": 3
   },
   "file_extension": ".py",
   "mimetype": "text/x-python",
   "name": "python",
   "nbconvert_exporter": "python",
   "pygments_lexer": "ipython3",
   "version": "3.6.8"
  },
  "latex_envs": {
   "LaTeX_envs_menu_present": true,
   "autoclose": false,
   "autocomplete": true,
   "bibliofile": "biblio.bib",
   "cite_by": "apalike",
   "current_citInitial": 1,
   "eqLabelWithNumbers": true,
   "eqNumInitial": 1,
   "hotkeys": {
    "equation": "Ctrl-E",
    "itemize": "Ctrl-I"
   },
   "labels_anchors": false,
   "latex_user_defs": false,
   "report_style_numbering": false,
   "user_envs_cfg": false
  }
 },
 "nbformat": 4,
 "nbformat_minor": 2
}
